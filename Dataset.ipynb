{
 "cells": [
  {
   "cell_type": "code",
   "execution_count": 7,
   "metadata": {},
   "outputs": [],
   "source": [
    "import torch\n",
    "from typing import List, Tuple\n",
    "\n",
    "class Dataset:\n",
    "  def load_batch(self, raw: str, context_length: int, batch_size: int) -> Tuple[List[List[str]]]:\n",
    "    torch.manual_seed(0)\n",
    "    words = raw.split()\n",
    "    indices = torch.randint(low=0, high= len(words) - context_length, size=(batch_size,))\n",
    "    X = []\n",
    "    Y = []\n",
    "    for idx in indices:\n",
    "      X.append(words[idx:idx+context_length])\n",
    "      Y.append(words[idx+1:idx+1+context_length])\n",
    "    return X, Y"
   ]
  },
  {
   "cell_type": "code",
   "execution_count": 10,
   "metadata": {},
   "outputs": [
    {
     "name": "stdout",
     "output_type": "stream",
     "text": [
      "tensor([0, 1])\n",
      "X: [['Hello', 'darkness', 'my'], ['darkness', 'my', 'old']]\n",
      "Y: [['darkness', 'my', 'old'], ['my', 'old', 'friend']]\n"
     ]
    }
   ],
   "source": [
    "raw= \"Hello darkness my old friend\"\n",
    "context_length = 3\n",
    "batch_size = 2\n",
    "\n",
    "X, Y = Dataset().load_batch(raw, context_length, batch_size)\n",
    "print(f\"X: {X}\")\n",
    "print(f\"Y: {Y}\")"
   ]
  },
  {
   "cell_type": "code",
   "execution_count": null,
   "metadata": {},
   "outputs": [],
   "source": []
  }
 ],
 "metadata": {
  "kernelspec": {
   "display_name": "gpt",
   "language": "python",
   "name": "python3"
  },
  "language_info": {
   "codemirror_mode": {
    "name": "ipython",
    "version": 3
   },
   "file_extension": ".py",
   "mimetype": "text/x-python",
   "name": "python",
   "nbconvert_exporter": "python",
   "pygments_lexer": "ipython3",
   "version": "3.12.3"
  }
 },
 "nbformat": 4,
 "nbformat_minor": 2
}
